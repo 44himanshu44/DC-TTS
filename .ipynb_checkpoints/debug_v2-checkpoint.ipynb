{
 "cells": [
  {
   "cell_type": "code",
   "execution_count": 1,
   "metadata": {},
   "outputs": [],
   "source": [
    "    # -*- coding: utf-8 -*-\n",
    "#/usr/bin/python2\n",
    "'''\n",
    "By kyubyong park. kbpark.linguist@gmail.com. \n",
    "https://www.github.com/kyubyong/dc_tts\n",
    "'''\n",
    "\n",
    "from __future__ import print_function, division\n",
    "from hyperparams import Hyperparams as hp\n",
    "from modules import *\n",
    "import tensorflow as tf\n",
    "import numpy as np\n",
    "from tqdm import tqdm\n",
    "from data_load import get_batch, load_vocab, load_data\n",
    "from networks import TextEnc, AudioEnc, AudioDec, Attention, SSRN\n",
    "from utils import *\n",
    "import sys\n",
    "import pickle\n",
    "import time"
   ]
  },
  {
   "cell_type": "code",
   "execution_count": 2,
   "metadata": {},
   "outputs": [],
   "source": [
    "def embed(inputs, vocab_size, num_units, zero_pad=True):\n",
    "    '''Embeds a given tensor. \n",
    "    \n",
    "    Args:\n",
    "      inputs: A `Tensor` with type `int32` or `int64` containing the ids\n",
    "         to be looked up in `lookup table`.\n",
    "      vocab_size: An int. Vocabulary size.\n",
    "      num_units: An int. Number of embedding hidden units.\n",
    "      zero_pad: A boolean. If True, all the values of the fist row (id 0)\n",
    "        should be constant zeros.\n",
    "      scope: Optional scope for `variable_scope`.  \n",
    "      reuse: Boolean, whether to reuse the weights of a previous layer\n",
    "        by the same name.\n",
    "        \n",
    "    Returns:\n",
    "      A `Tensor` with one more rank than inputs's. The last dimensionality\n",
    "        should be `num_units`.\n",
    "    '''\n",
    "    initializer = tf.keras.initializers.TruncatedNormal(mean=0., stddev=1.)\n",
    "    outputs = tf.keras.layers.Embedding(vocab_size, num_units, input_length=10,embeddings_initializer = initializer,mask_zero = True)(inputs)\n",
    "\n",
    "    return outputs"
   ]
  },
  {
   "cell_type": "code",
   "execution_count": 3,
   "metadata": {},
   "outputs": [],
   "source": [
    "def normalize(inputs):\n",
    "    '''Applies layer normalization that normalizes along the last axis.\n",
    "\n",
    "    Args:\n",
    "      inputs: A tensor with 2 or more dimensions, where the first dimension has\n",
    "        `batch_size`. The normalization is over the last dimension.\n",
    "      scope: Optional scope for `variable_scope`.\n",
    "      reuse: Boolean, whether to reuse the weights of a previous layer\n",
    "        by the same name.\n",
    "\n",
    "    Returns:\n",
    "      A tensor with the same shape and data dtype as `inputs`.\n",
    "    '''\n",
    "    outputs = tf.keras.layers.BatchNormalization(axis=-1,momentum=0.99,epsilon=0.001,center=True,scale=True)(inputs)\n",
    "    return outputs"
   ]
  },
  {
   "cell_type": "code",
   "execution_count": 4,
   "metadata": {},
   "outputs": [],
   "source": [
    "def highwaynet(inputs, num_units=None, scope=\"highwaynet\", reuse=None):\n",
    "    '''Highway networks, see https://arxiv.org/abs/1505.00387\n",
    "\n",
    "    Args:\n",
    "      inputs: A 3D tensor of shape [N, T, W].\n",
    "      num_units: An int or `None`. Specifies the number of units in the highway layer\n",
    "             or uses the input size if `None`.\n",
    "      scope: Optional scope for `variable_scope`.\n",
    "      reuse: Boolean, whether to reuse the weights of a previous layer\n",
    "        by the same name.\n",
    "\n",
    "    Returns:\n",
    "      A 3D tensor of shape [N, T, W].\n",
    "    '''\n",
    "    if not num_units:\n",
    "        num_units = inputs.get_shape()[-1]\n",
    "\n",
    "   \n",
    "    H = tf.keras.layers.Dense(units=num_units, activation='relu', name=\"dense1\")(inputs)\n",
    "    T = tf.keras.layers.Dense(units=num_units, activation='sigmoid',\n",
    "                        bias_initializer = tf.constant_initializer(-1.0), name=\"dense2\")(inputs)\n",
    "    outputs = H * T + inputs * (1 - T)\n",
    "    return outputs"
   ]
  },
  {
   "cell_type": "code",
   "execution_count": 5,
   "metadata": {},
   "outputs": [],
   "source": [
    "def conv1d(inputs,\n",
    "           filters=None,\n",
    "           size=1,\n",
    "           rate=1,\n",
    "           padding=\"SAME\",\n",
    "           dropout_rate=0,\n",
    "           use_bias=True,\n",
    "           activation_fn=None):\n",
    "    '''\n",
    "    Args:\n",
    "      inputs: A 3-D tensor with shape of [batch, time, depth].\n",
    "      filters: An int. Number of outputs (=activation maps)\n",
    "      size: An int. Filter size.\n",
    "      rate: An int. Dilation rate.\n",
    "      padding: Either `same` or `valid` or `causal` (case-insensitive).\n",
    "      dropout_rate: A float of [0, 1].\n",
    "      use_bias: A boolean.\n",
    "      activation_fn: A string.\n",
    "      training: A boolean. If True, dropout is applied.\n",
    "      scope: Optional scope for `variable_scope`.\n",
    "      reuse: Boolean, whether to reuse the weights of a previous layer\n",
    "        by the same name.\n",
    "\n",
    "    Returns:\n",
    "      A masked tensor of the same shape and dtypes as `inputs`.\n",
    "    '''\n",
    "    \n",
    "    if padding.lower() == \"causal\":\n",
    "        # pre-padding for causality\n",
    "        pad_len = (size - 1) * rate  # padding size\n",
    "        inputs = tf.pad(inputs, [[0, 0], [pad_len, 0], [0, 0]])\n",
    "        padding = \"valid\"\n",
    "    \n",
    "    print(inputs)\n",
    "    if filters is None:\n",
    "        filters = inputs.get_shape().as_list()[-1]\n",
    "\n",
    "    params = {\"filters\": filters, \"kernel_size\": size,\n",
    "              \"dilation_rate\": rate, \"padding\": padding, \"use_bias\": use_bias,\n",
    "              \"kernel_initializer\": 'glorot_uniform'}\n",
    "\n",
    "    tensor = tf.keras.layers.Conv1D(**params)(inputs)\n",
    "    tensor = normalize(tensor)\n",
    "    if activation_fn is not None:\n",
    "        tensor = activation_fn(tensor)\n",
    "    \n",
    "\n",
    "    tensor = tf.keras.layers.Dropout(rate=dropout_rate)(tensor)\n",
    "\n",
    "    return tensor"
   ]
  },
  {
   "cell_type": "code",
   "execution_count": 6,
   "metadata": {},
   "outputs": [],
   "source": [
    "def hc(inputs,\n",
    "       filters=None,\n",
    "       size=1,\n",
    "       rate=1,\n",
    "       padding=\"SAME\",\n",
    "       dropout_rate=0,\n",
    "       use_bias=True,\n",
    "       activation_fn=None):\n",
    "    '''\n",
    "    Args:\n",
    "      inputs: A 3-D tensor with shape of [batch, time, depth].\n",
    "      filters: An int. Number of outputs (=activation maps)\n",
    "      size: An int. Filter size.\n",
    "      rate: An int. Dilation rate.\n",
    "      padding: Either `same` or `valid` or `causal` (case-insensitive).\n",
    "      use_bias: A boolean.\n",
    "      activation_fn: A string.\n",
    "      training: A boolean. If True, dropout is applied.\n",
    "      scope: Optional scope for `variable_scope`.\n",
    "      reuse: Boolean, whether to reuse the weights of a previous layer\n",
    "        by the same name.\n",
    "\n",
    "    Returns:\n",
    "      A masked tensor of the same shape and dtypes as `inputs`.\n",
    "    '''\n",
    "    _inputs = inputs\n",
    "   \n",
    "    if padding.lower() == \"causal\":\n",
    "        # pre-padding for causality\n",
    "        pad_len = (size - 1) * rate  # padding size\n",
    "        inputs = tf.pad(tensor=inputs, paddings=[[0, 0], [pad_len, 0], [0, 0]])\n",
    "        padding = \"valid\"\n",
    "\n",
    "    if filters is None:\n",
    "        filters = inputs.get_shape().as_list()[-1]\n",
    "\n",
    "\n",
    "    params = {\"filters\": 2*filters, \"kernel_size\": size,\n",
    "              \"dilation_rate\": rate, \"padding\": padding, \"use_bias\": use_bias,\n",
    "              \"kernel_initializer\": 'glorot_uniform'}\n",
    "\n",
    "    tensor =  tf.keras.layers.Conv1D(**params)(inputs)\n",
    "    H1, H2 = tf.split(tensor, 2, axis=-1)\n",
    "    H1 = normalize(H1)\n",
    "    H2 = normalize(H2)\n",
    "    H1 = tf.nn.sigmoid(H1, \"gate\")\n",
    "    H2 = activation_fn(H2, \"info\") if activation_fn is not None else H2\n",
    "    tensor = H1*H2 + (1.-H1)*_inputs\n",
    "\n",
    "    tensor = tf.keras.layers.Dropout(rate=dropout_rate)(tensor)\n",
    "\n",
    "    return tensor"
   ]
  },
  {
   "cell_type": "code",
   "execution_count": 7,
   "metadata": {},
   "outputs": [],
   "source": [
    "def conv1d_transpose(inputs,\n",
    "                     filters=None,\n",
    "                     size=3,\n",
    "                     stride=2,\n",
    "                     padding='same',\n",
    "                     dropout_rate=0,\n",
    "                     use_bias=True,\n",
    "                     activation=None):\n",
    "    '''\n",
    "        Args:\n",
    "          inputs: A 3-D tensor with shape of [batch, time, depth].\n",
    "          filters: An int. Number of outputs (=activation maps)\n",
    "          size: An int. Filter size.\n",
    "          rate: An int. Dilation rate.\n",
    "          padding: Either `same` or `valid` or `causal` (case-insensitive).\n",
    "          dropout_rate: A float of [0, 1].\n",
    "          use_bias: A boolean.\n",
    "          activation_fn: A string.\n",
    "          training: A boolean. If True, dropout is applied.\n",
    "          scope: Optional scope for `variable_scope`.\n",
    "          reuse: Boolean, whether to reuse the weights of a previous layer\n",
    "            by the same name.\n",
    "\n",
    "        Returns:\n",
    "          A tensor of the shape with [batch, time*2, depth].\n",
    "        '''\n",
    "    \n",
    "    if filters is None:\n",
    "        filters = inputs.get_shape().as_list()[-1]\n",
    "    inputs = tf.expand_dims(inputs, 1)\n",
    "    tensor = tf.keras.layers.Conv2DTranspose(filters=filters,\n",
    "                               kernel_size=(1, size),\n",
    "                               strides=(1, stride),\n",
    "                               padding=padding,\n",
    "                               use_bias=use_bias,\n",
    "                               activation=None,\n",
    "                               kernel_initializer='glorot_uniform')(inputs)\n",
    "    tensor = tf.squeeze(tensor, 1)\n",
    "    tensor = normalize(tensor)\n",
    "    if activation is not None:\n",
    "        tensor = activation(tensor)\n",
    "\n",
    "    tensor = tf.keras.layers.Dropout(rate=dropout_rate)(tensor)\n",
    "\n",
    "    return tensor"
   ]
  },
  {
   "cell_type": "code",
   "execution_count": 11,
   "metadata": {},
   "outputs": [],
   "source": [
    "def TextEnc(L):\n",
    "    '''\n",
    "    Args:\n",
    "      L: Text inputs. (B, N)\n",
    "\n",
    "    Return:\n",
    "        K: Keys. (B, N, d)\n",
    "        V: Values. (B, N, d)\n",
    "    '''\n",
    "    i = 1\n",
    "    tensor = embed(L,\n",
    "                   vocab_size=len(hp.vocab),\n",
    "                   num_units=hp.e\n",
    "                   ); i += 1\n",
    "    tensor = conv1d(tensor,\n",
    "                    filters=2*hp.d,\n",
    "                    size=1,\n",
    "                    rate=1,\n",
    "                    dropout_rate=hp.dropout_rate,\n",
    "                    activation_fn=tf.nn.relu\n",
    "                    ); i += 1\n",
    "    tensor = conv1d(tensor,\n",
    "                    size=1,\n",
    "                    rate=1,\n",
    "                    dropout_rate=hp.dropout_rate\n",
    "                    ); i += 1\n",
    "\n",
    "    for _ in range(2):\n",
    "        for j in range(4):\n",
    "            tensor = hc(tensor,\n",
    "                            size=3,\n",
    "                            rate=3**j,\n",
    "                            dropout_rate=hp.dropout_rate,\n",
    "                            activation_fn=None\n",
    "                            ); i += 1\n",
    "    for _ in range(2):\n",
    "        tensor = hc(tensor,\n",
    "                        size=3,\n",
    "                        rate=1,\n",
    "                        dropout_rate=hp.dropout_rate,\n",
    "                        activation_fn=None\n",
    "                               ); i += 1\n",
    "\n",
    "    for _ in range(2):\n",
    "        tensor = hc(tensor,\n",
    "                        size=1,\n",
    "                        rate=1,\n",
    "                        dropout_rate=hp.dropout_rate,\n",
    "                        activation_fn=None\n",
    "                        ); i += 1\n",
    "\n",
    "    K, V = tf.split(tensor, 2, -1)\n",
    "    return K, V\n"
   ]
  },
  {
   "cell_type": "markdown",
   "metadata": {},
   "source": [
    "### Testing"
   ]
  },
  {
   "cell_type": "code",
   "execution_count": null,
   "metadata": {},
   "outputs": [],
   "source": [
    "for i in sorted_with_len_2000.take(1):\n",
    "    L,mels,mags,fnames,text_len,num_batch = i\n",
    "TextEnc(L)"
   ]
  },
  {
   "cell_type": "code",
   "execution_count": null,
   "metadata": {},
   "outputs": [],
   "source": [
    "rank_2 = tf.constant([[1, 2],\n",
    "             [3, 4],\n",
    "             [5, 6]], dtype=tf.float32)\n",
    "\n",
    "rank_3_tensor = tf.constant([\n",
    "  [[0, 1, 2, 3, 4],\n",
    "   [5, 6, 7, 8, 9]],\n",
    "  [[10, 11, 12, 13, 14],\n",
    "   [15, 16, 17, 18, 19]],\n",
    "  [[20, 21, 22, 23, 24],\n",
    "   [25, 26, 27, 28, 29]]],dtype = tf.float32)\n",
    "\n",
    "rank_4_tensorf = tf.constant([[[[1],\n",
    "         [2]],\n",
    "\n",
    "        [[3],\n",
    "         [4]]]], dtype = tf.float32)\n",
    "\n",
    "X = np.asarray([[1, 2], [3, 4]])\n",
    "X.reshape(1,2,2,1)"
   ]
  },
  {
   "cell_type": "code",
   "execution_count": 9,
   "metadata": {},
   "outputs": [
    {
     "data": {
      "text/plain": [
       "<tf.Tensor: shape=(3, 2, 5), dtype=float32, numpy=\n",
       "array([[[ -2.6060991 ,   3.5536134 ,   2.3781004 ,  -5.6829653 ,\n",
       "          -0.67413896],\n",
       "        [ -8.718557  ,   8.101439  ,  12.403968  , -14.943922  ,\n",
       "          -3.0228567 ]],\n",
       "\n",
       "       [[-14.831017  ,  12.649266  ,  22.429834  , -24.204878  ,\n",
       "          -5.371574  ],\n",
       "        [-20.943472  ,  17.197092  ,  32.455704  , -33.465836  ,\n",
       "          -7.7202916 ]],\n",
       "\n",
       "       [[-27.055933  ,  21.74492   ,  42.48157   , -42.72679   ,\n",
       "         -10.06901   ],\n",
       "        [-33.16839   ,  26.292746  ,  52.50744   , -51.987747  ,\n",
       "         -12.417727  ]]], dtype=float32)>"
      ]
     },
     "execution_count": 9,
     "metadata": {},
     "output_type": "execute_result"
    }
   ],
   "source": [
    "conv1d_transpose(rank_3_tensor,\n",
    "                 size = 1,\n",
    "                 stride = 1,\n",
    "                 dropout_rate=hp.dropout_rate)"
   ]
  },
  {
   "cell_type": "code",
   "execution_count": 5,
   "metadata": {},
   "outputs": [
    {
     "data": {
      "text/plain": [
       "<tf.Tensor: shape=(1, 2, 2, 1), dtype=float32, numpy=\n",
       "array([[[[-0.71179974],\n",
       "         [-1.4235995 ]],\n",
       "\n",
       "        [[-2.1353993 ],\n",
       "         [-2.847199  ]]]], dtype=float32)>"
      ]
     },
     "execution_count": 5,
     "metadata": {},
     "output_type": "execute_result"
    }
   ],
   "source": [
    "tf.keras.layers.Conv2DTranspose(\n",
    "    filters = 1, kernel_size = (1,1), strides=(1, 1), padding='same', \n",
    "    activation=None, use_bias=True,\n",
    "    kernel_initializer='glorot_uniform'\n",
    ")(rank_4_tensorf)"
   ]
  },
  {
   "cell_type": "code",
   "execution_count": 27,
   "metadata": {},
   "outputs": [
    {
     "data": {
      "text/plain": [
       "<tf.Tensor: shape=(3, 2, 5), dtype=float32, numpy=\n",
       "array([[[  0.77673054,   2.0795434 ,   0.38490015,  -3.396175  ,\n",
       "           1.7059772 ],\n",
       "        [  4.3645577 ,   7.3039794 ,   0.8794489 ,  -8.212064  ,\n",
       "           5.450384  ]],\n",
       "\n",
       "       [[  9.80634   ,  12.350378  ,   1.5717201 , -12.696313  ,\n",
       "           9.593467  ],\n",
       "        [ 14.964674  ,  17.394682  ,   2.4607725 , -17.18036   ,\n",
       "          13.7371235 ]],\n",
       "\n",
       "       [[ 19.994486  ,  22.438965  ,   3.5453234 , -21.66441   ,\n",
       "          17.880783  ],\n",
       "        [ 24.999203  ,  27.483248  ,   4.82378   , -26.148455  ,\n",
       "          22.02444   ]]], dtype=float32)>"
      ]
     },
     "execution_count": 27,
     "metadata": {},
     "output_type": "execute_result"
    }
   ],
   "source": [
    "hc(rank_3_tensor,\n",
    "       filters=None,\n",
    "       size=1,\n",
    "       rate=1,\n",
    "       padding=\"SAME\",\n",
    "       dropout_rate=0,\n",
    "       use_bias=True,\n",
    "       activation_fn=None)"
   ]
  },
  {
   "cell_type": "code",
   "execution_count": 21,
   "metadata": {},
   "outputs": [
    {
     "name": "stdout",
     "output_type": "stream",
     "text": [
      "tf.Tensor(\n",
      "[[[ 0.  1.  2.  3.  4.]\n",
      "  [ 5.  6.  7.  8.  9.]]\n",
      "\n",
      " [[10. 11. 12. 13. 14.]\n",
      "  [15. 16. 17. 18. 19.]]\n",
      "\n",
      " [[20. 21. 22. 23. 24.]\n",
      "  [25. 26. 27. 28. 29.]]], shape=(3, 2, 5), dtype=float32)\n"
     ]
    },
    {
     "data": {
      "text/plain": [
       "<tf.Tensor: shape=(3, 2, 256), dtype=float32, numpy=\n",
       "array([[[0.        , 0.00751375, 0.6594122 , ..., 0.        ,\n",
       "         0.        , 0.01869379],\n",
       "        [0.        , 0.        , 0.5120433 , ..., 0.        ,\n",
       "         0.        , 0.13660263]],\n",
       "\n",
       "       [[0.        , 0.        , 0.36467442, ..., 0.        ,\n",
       "         0.        , 0.25451145],\n",
       "        [0.        , 0.        , 0.21730527, ..., 0.        ,\n",
       "         0.        , 0.37242022]],\n",
       "\n",
       "       [[0.        , 0.        , 0.0699366 , ..., 0.        ,\n",
       "         0.        , 0.49032924],\n",
       "        [0.        , 0.        , 0.        , ..., 0.        ,\n",
       "         0.        , 0.6082379 ]]], dtype=float32)>"
      ]
     },
     "execution_count": 21,
     "metadata": {},
     "output_type": "execute_result"
    }
   ],
   "source": [
    "conv1d(rank_3_tensor,\n",
    "        filters=hp.d,\n",
    "        size=1,\n",
    "        rate=1,\n",
    "        padding=\"CAUSAL\",\n",
    "        dropout_rate=hp.dropout_rate,\n",
    "        activation_fn=tf.nn.relu)"
   ]
  },
  {
   "cell_type": "code",
   "execution_count": null,
   "metadata": {},
   "outputs": [],
   "source": []
  },
  {
   "cell_type": "code",
   "execution_count": null,
   "metadata": {},
   "outputs": [],
   "source": []
  },
  {
   "cell_type": "code",
   "execution_count": null,
   "metadata": {},
   "outputs": [],
   "source": []
  },
  {
   "cell_type": "code",
   "execution_count": null,
   "metadata": {},
   "outputs": [],
   "source": []
  },
  {
   "cell_type": "code",
   "execution_count": null,
   "metadata": {},
   "outputs": [],
   "source": []
  },
  {
   "cell_type": "code",
   "execution_count": null,
   "metadata": {},
   "outputs": [],
   "source": []
  },
  {
   "cell_type": "code",
   "execution_count": null,
   "metadata": {},
   "outputs": [],
   "source": [
    "char2idx, idx2char = load_vocab()\n",
    "fpaths, text_lengths, texts = load_data()"
   ]
  },
  {
   "cell_type": "code",
   "execution_count": null,
   "metadata": {},
   "outputs": [],
   "source": [
    "L, mels, mags, fnames, num_batch = get_batch()"
   ]
  },
  {
   "cell_type": "code",
   "execution_count": null,
   "metadata": {},
   "outputs": [],
   "source": [
    "num_batch = len(fnames)//hp.B"
   ]
  },
  {
   "cell_type": "code",
   "execution_count": null,
   "metadata": {},
   "outputs": [],
   "source": [
    "data_text = [[L[i],mels[i],mags[i], fnames[i],len(L[i]),num_batch] for i in range(len(L))]"
   ]
  },
  {
   "cell_type": "code",
   "execution_count": null,
   "metadata": {},
   "outputs": [],
   "source": [
    "data_text[0]"
   ]
  },
  {
   "cell_type": "code",
   "execution_count": null,
   "metadata": {},
   "outputs": [],
   "source": [
    "data_text.sort(key = lambda x : x[4])"
   ]
  },
  {
   "cell_type": "code",
   "execution_count": null,
   "metadata": {},
   "outputs": [],
   "source": [
    "sorted_with_len = [(sent[0],sent[1],sent[2],sent[3],sent[4],sent[5]) for sent in data_text if sent[4] > 10]"
   ]
  },
  {
   "cell_type": "code",
   "execution_count": null,
   "metadata": {},
   "outputs": [],
   "source": [
    "sorted_with_len[13099]"
   ]
  },
  {
   "cell_type": "code",
   "execution_count": null,
   "metadata": {},
   "outputs": [],
   "source": []
  },
  {
   "cell_type": "code",
   "execution_count": null,
   "metadata": {},
   "outputs": [],
   "source": [
    "sorted_with_len_13099 = []\n",
    "for i in range(12000,13100):\n",
    "    sorted_with_len_13099.append(sorted_with_len[i])\n",
    "with open('data/sorted_with_len_13099','wb') as f:\n",
    "    pickle.dump(sorted_with_len_13099,f)"
   ]
  },
  {
   "cell_type": "code",
   "execution_count": null,
   "metadata": {},
   "outputs": [],
   "source": [
    "start_time = time.time()\n",
    "with open('data/sorted_with_len_2000','rb') as f:\n",
    "    sorted_with_len_2000 = pickle.load(f)\n",
    "with open('data/sorted_with_len_4000','rb') as f:\n",
    "    sorted_with_len_4000 = pickle.load(f)\n",
    "with open('data/sorted_with_len_6000','rb') as f:\n",
    "    sorted_with_len_6000 = pickle.load(f)\n",
    "with open('data/sorted_with_len_8000','rb') as f:\n",
    "    sorted_with_len_8000 = pickle.load(f)\n",
    "with open('data/sorted_with_len_10000','rb') as f:\n",
    "    sorted_with_len_10000 = pickle.load(f)\n",
    "with open('data/sorted_with_len_12000','rb') as f:\n",
    "    sorted_with_len_12000 = pickle.load(f)\n",
    "with open('data/sorted_with_len_13099','rb') as f:\n",
    "    sorted_with_len_13099 = pickle.load(f)\n",
    "print(\"--- %s seconds ---\" % (time.time() - start_time))"
   ]
  },
  {
   "cell_type": "code",
   "execution_count": null,
   "metadata": {},
   "outputs": [],
   "source": [
    "sorted_with_len = sorted_with_len_2000+sorted_with_len_4000+sorted_with_len_6000+sorted_with_len_8000+sorted_with_len_10000+sorted_with_len_12000+sorted_with_len_13099"
   ]
  },
  {
   "cell_type": "code",
   "execution_count": null,
   "metadata": {},
   "outputs": [],
   "source": [
    "start_time = time.time()\n",
    "all_dataset = tf.data.Dataset.from_generator(lambda : sorted_with_len,\n",
    "                                            output_types = (tf.int32, tf.float32,tf.float32,tf.string, tf.int32,tf.int32))\n",
    "pad_batch = all_dataset.padded_batch(32, padded_shapes=((None,),(None,hp.n_mels),(None,hp.n_fft//2+1),(),(),()))\n",
    "print(\"--- %s seconds ---\" % (time.time() - start_time))"
   ]
  },
  {
   "cell_type": "code",
   "execution_count": null,
   "metadata": {},
   "outputs": [],
   "source": []
  }
 ],
 "metadata": {
  "kernelspec": {
   "display_name": "Python 3",
   "language": "python",
   "name": "python3"
  },
  "language_info": {
   "codemirror_mode": {
    "name": "ipython",
    "version": 3
   },
   "file_extension": ".py",
   "mimetype": "text/x-python",
   "name": "python",
   "nbconvert_exporter": "python",
   "pygments_lexer": "ipython3",
   "version": "3.7.6"
  }
 },
 "nbformat": 4,
 "nbformat_minor": 4
}
